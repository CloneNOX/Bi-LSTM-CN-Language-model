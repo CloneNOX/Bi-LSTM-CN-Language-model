{
 "cells": [
  {
   "cell_type": "code",
   "execution_count": 3,
   "metadata": {},
   "outputs": [
    {
     "name": "stdout",
     "output_type": "stream",
     "text": [
      "building model...\tdone.\n",
      "building model...\tdone.\n"
     ]
    },
    {
     "data": {
      "text/plain": [
       "<All keys matched successfully>"
      ]
     },
     "execution_count": 3,
     "metadata": {},
     "output_type": "execute_result"
    }
   ],
   "source": [
    "import torch\n",
    "from torch import optim\n",
    "from torch.utils.data import DataLoader\n",
    "from tqdm import tqdm\n",
    "from cnpre import CNPRE, miniCNPRE\n",
    "from model import LSTM\n",
    "from bilstm import bilstm_crf\n",
    "import data\n",
    "import sys\n",
    "\n",
    "def batch_padding(batch):\n",
    "    maxlen = 0\n",
    "    for item in batch:\n",
    "        maxlen = max(maxlen, len(item[0]))\n",
    "    tags = []\n",
    "    anss = []\n",
    "    lens = []\n",
    "    for item in batch:\n",
    "        lens.append(len(item[0]))\n",
    "        for i in range(len(item[0]), maxlen):\n",
    "            item[0].append(word2idx['<pad>'])\n",
    "            item[1].append(word2idx['<pad>'])\n",
    "        tags.append(item[0])\n",
    "        anss.append(item[1])\n",
    "    tags = torch.LongTensor(tags)\n",
    "    anss = torch.LongTensor(anss)\n",
    "    lens = torch.IntTensor(lens)\n",
    "    return tags, anss, maxlen, lens\n",
    "\n",
    "# 超参数\n",
    "embedding_dim = 300\n",
    "lstm_hidden_dim = 300\n",
    "lr = 1e-3\n",
    "batch_size = 32\n",
    "\n",
    "# 建立语言模型\n",
    "word2idx = torch.load('wordidx.pt')['word2idx']\n",
    "idx2word = torch.load('wordidx.pt')['idx2word']\n",
    "print('building model...', end='')\n",
    "sys.stdout.flush()\n",
    "device = torch.device('cuda' if torch.cuda.is_available() else 'cpu') # 计算设备\n",
    "pad_index = word2idx['<pad>']\n",
    "lstm = LSTM(len(word2idx), embedding_dim, lstm_hidden_dim, batch_size, pad_index)\n",
    "lstm.set_device(device)\n",
    "print('\\tdone.')\n",
    "# 读取参数\n",
    "checkpoint = torch.load('./checkpoint/cn-pre-check-point lr=1e-4.pt') # 检查点保存路径\n",
    "lstm.load_state_dict(checkpoint['net'])\n",
    "\n",
    "# 建立分词模型\n",
    "embedding_dim = 256\n",
    "lstm_hidden_dim = 128\n",
    "w2idx, train_set = data.get_data('train')\n",
    "tag2idx = data.tag2idx\n",
    "device = torch.device('cuda' if torch.cuda.is_available() else 'cpu') # 计算设备\n",
    "print('building model...', end='')\n",
    "model = bilstm_crf(tag2idx, len(w2idx), embedding_dim, lstm_hidden_dim)\n",
    "model.set_device(device)\n",
    "print('\\tdone.')\n",
    "# 读取参数\n",
    "checkpoint = torch.load('./checkpoint/lr=1e-5.pt')\n",
    "model.load_state_dict(checkpoint['net'])"
   ]
  },
  {
   "cell_type": "code",
   "execution_count": 66,
   "metadata": {},
   "outputs": [
    {
     "name": "stdin",
     "output_type": "stream",
     "text": [
      "句子开头： 自然语言处理\n"
     ]
    },
    {
     "name": "stdout",
     "output_type": "stream",
     "text": [
      "分词结果：['自然', '语言', '处理']\n",
      "生成句子：自然语言处理好业主与产品结构不相分的双星相比，生产的主要分项研究等都在相当大的程度上是主要的。\n"
     ]
    }
   ],
   "source": [
    "from random import randint\n",
    "words = []\n",
    "lstm.eval()\n",
    "begin = input('句子开头：')\n",
    "sentence = [w2idx[word] if word in w2idx else 0 for word in begin]\n",
    "sentence = torch.LongTensor(sentence).to(device)\n",
    "predict_tag = torch.LongTensor(model.test(sentence, 1)[0])\n",
    "s = begin\n",
    "sp = []\n",
    "words = []\n",
    "for index in range(len(predict_tag)):\n",
    "    if predict_tag[index]==data.tag2idx['S'] or predict_tag[index]==data.tag2idx['B']:\n",
    "        sp.append(index)\n",
    "sp.append(len(predict_tag))\n",
    "for i in range(len(sp)):\n",
    "    if i != 0:\n",
    "        words.append(s[sp[i-1]:sp[i]])\n",
    "        \n",
    "print('分词结果：{}'.format(words))\n",
    "curword = word2idx[words[-1]] if words[-1] in word2idx else randint(0, len(word2idx))\n",
    "#for i in range(20):\n",
    "h = lstm.h0\n",
    "c = lstm.c0\n",
    "while True:\n",
    "    curword, h, c = lstm.pretend(curword, h, c)\n",
    "    curword = curword.item()\n",
    "    if curword == word2idx['<eos>']:\n",
    "        break\n",
    "    words.append(idx2word[curword])\n",
    "sentence = \"\"\n",
    "for word in words:\n",
    "    sentence += word\n",
    "print('生成句子：{}'.format(sentence))"
   ]
  },
  {
   "cell_type": "code",
   "execution_count": null,
   "metadata": {},
   "outputs": [],
   "source": []
  }
 ],
 "metadata": {
  "kernelspec": {
   "display_name": "Python 3",
   "language": "python",
   "name": "python3"
  },
  "language_info": {
   "codemirror_mode": {
    "name": "ipython",
    "version": 3
   },
   "file_extension": ".py",
   "mimetype": "text/x-python",
   "name": "python",
   "nbconvert_exporter": "python",
   "pygments_lexer": "ipython3",
   "version": "3.7.6"
  }
 },
 "nbformat": 4,
 "nbformat_minor": 4
}
